{
 "cells": [
  {
   "cell_type": "code",
   "execution_count": 4,
   "id": "47429deb",
   "metadata": {},
   "outputs": [],
   "source": [
    "# Importing the libraries\n",
    "import numpy as np\n",
    "import matplotlib.pyplot as plt\n",
    "import pandas as pd\n",
    "import pickle\n",
    "import os"
   ]
  },
  {
   "cell_type": "code",
   "execution_count": 9,
   "id": "5f4c9df5",
   "metadata": {},
   "outputs": [
    {
     "name": "stdout",
     "output_type": "stream",
     "text": [
      "  Experience  test_score  interview_score  salary\n",
      "0        NaN         8.0                9   50000\n",
      "1        NaN         8.0                6   45000\n",
      "2       five         6.0                7   60000\n",
      "3        two        10.0               10   65000\n",
      "4      seven         9.0                6   70000\n",
      "5      three         7.0               10   62000\n",
      "6        ten         NaN                7   72000\n",
      "7     eleven         7.0                8   80000\n",
      "  Experience  test_score  interview_score  salary\n",
      "0          0    8.000000                9   50000\n",
      "1          0    8.000000                6   45000\n",
      "2       five    6.000000                7   60000\n",
      "3        two   10.000000               10   65000\n",
      "4      seven    9.000000                6   70000\n",
      "5      three    7.000000               10   62000\n",
      "6        ten    7.857143                7   72000\n",
      "7     eleven    7.000000                8   80000\n"
     ]
    }
   ],
   "source": [
    "\n",
    "FILE_DIR = \"data\"\n",
    "dataset = pd.read_csv(os.path.join(FILE_DIR, 'hiring.csv'))\n",
    "print(dataset)\n",
    "dataset['Experience'].fillna(0, inplace=True)\n",
    "\n",
    "dataset['test_score'].fillna(dataset['test_score'].mean(), inplace=True)\n",
    "\n",
    "print(dataset)"
   ]
  },
  {
   "cell_type": "code",
   "execution_count": 11,
   "id": "7a3da9e3",
   "metadata": {},
   "outputs": [
    {
     "name": "stdout",
     "output_type": "stream",
     "text": [
      "[53290.89255945]\n"
     ]
    },
    {
     "name": "stderr",
     "output_type": "stream",
     "text": [
      "C:\\Users\\Lenovo\\.conda\\envs\\jupyter\\Lib\\site-packages\\sklearn\\base.py:465: UserWarning: X does not have valid feature names, but LinearRegression was fitted with feature names\n",
      "  warnings.warn(\n"
     ]
    }
   ],
   "source": [
    "X = dataset.iloc[:, :3]\n",
    "\n",
    "#Converting words to integer values\n",
    "def convert_to_int(word):\n",
    "    word_dict = {'one':1, 'two':2, 'three':3, 'four':4, 'five':5, 'six':6, 'seven':7, 'eight':8,\n",
    "                'nine':9, 'ten':10, 'eleven':11, 'twelve':12, 'zero':0, 0: 0}\n",
    "    return word_dict[word]\n",
    "\n",
    "X['Experience'] = X['Experience'].apply(lambda x : convert_to_int(x))\n",
    "\n",
    "y = dataset.iloc[:, -1]\n",
    "\n",
    "#Splitting Training and Test Set\n",
    "#Since we have a very small dataset, we will train our model with all availabe data.\n",
    "\n",
    "from sklearn.linear_model import LinearRegression\n",
    "regressor = LinearRegression()\n",
    "\n",
    "#Fitting model with trainig data\n",
    "regressor.fit(X, y)\n",
    "\n",
    "# Saving model to disk\n",
    "pickle.dump(regressor, open('model.pkl','wb'))\n",
    "\n",
    "# Loading model to compare the results\n",
    "model = pickle.load(open('model.pkl','rb'))\n",
    "print(model.predict([[2, 9, 6]]))"
   ]
  },
  {
   "cell_type": "code",
   "execution_count": null,
   "id": "6cc52ad9",
   "metadata": {},
   "outputs": [],
   "source": []
  }
 ],
 "metadata": {
  "kernelspec": {
   "display_name": "Python 3 (ipykernel)",
   "language": "python",
   "name": "python3"
  },
  "language_info": {
   "codemirror_mode": {
    "name": "ipython",
    "version": 3
   },
   "file_extension": ".py",
   "mimetype": "text/x-python",
   "name": "python",
   "nbconvert_exporter": "python",
   "pygments_lexer": "ipython3",
   "version": "3.11.5"
  }
 },
 "nbformat": 4,
 "nbformat_minor": 5
}
